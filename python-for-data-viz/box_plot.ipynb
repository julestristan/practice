{
 "cells": [
  {
   "cell_type": "code",
   "execution_count": 2,
   "id": "7d02b5a2",
   "metadata": {},
   "outputs": [],
   "source": [
    "import matplotlib.pyplot as plt\n",
    "import numpy as np\n",
    "import statistics"
   ]
  },
  {
   "cell_type": "code",
   "execution_count": 9,
   "id": "3d436666",
   "metadata": {},
   "outputs": [
    {
     "data": {
      "text/plain": [
       "{'whiskers': [<matplotlib.lines.Line2D at 0x119b396d0>,\n",
       "  <matplotlib.lines.Line2D at 0x119b39810>],\n",
       " 'caps': [<matplotlib.lines.Line2D at 0x119b39950>,\n",
       "  <matplotlib.lines.Line2D at 0x119b39a90>],\n",
       " 'boxes': [<matplotlib.lines.Line2D at 0x119b39590>],\n",
       " 'medians': [<matplotlib.lines.Line2D at 0x119b39bd0>],\n",
       " 'fliers': [<matplotlib.lines.Line2D at 0x119b39d10>],\n",
       " 'means': []}"
      ]
     },
     "execution_count": 9,
     "metadata": {},
     "output_type": "execute_result"
    },
    {
     "data": {
      "image/png": "[encoded data removed]",
      "text/plain": [
       "<Figure size 640x480 with 1 Axes>"
      ]
     },
     "metadata": {},
     "output_type": "display_data"
    }
   ],
   "source": [
    "x=[10,20,30,40,50,60,70,150]\n",
    "plt.boxplot(x,vert=False,widths=.4)"
   ]
  },
  {
   "cell_type": "code",
   "execution_count": null,
   "id": "d14e2733",
   "metadata": {},
   "outputs": [],
   "source": []
  }
 ],
 "metadata": {
  "kernelspec": {
   "display_name": "practice",
   "language": "python",
   "name": "python3"
  },
  "language_info": {
   "codemirror_mode": {
    "name": "ipython",
    "version": 3
   },
   "file_extension": ".py",
   "mimetype": "text/x-python",
   "name": "python",
   "nbconvert_exporter": "python",
   "pygments_lexer": "ipython3",
   "version": "3.13.5"
  }
 },
 "nbformat": 4,
 "nbformat_minor": 5
}
